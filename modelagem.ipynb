{
 "cells": [
  {
   "cell_type": "code",
   "execution_count": 1,
   "id": "551f7740",
   "metadata": {},
   "outputs": [],
   "source": [
    "import sagemaker\n",
    "import boto3\n",
    "from sagemaker.session import Session\n",
    "from sagemaker.inputs import TrainingInput\n",
    "import pandas as pd\n",
    "from sagemaker.serializers import CSVSerializer\n",
    "import sklearn.metrics as metrics\n",
    "import numpy as np"
   ]
  },
  {
   "cell_type": "code",
   "execution_count": 6,
   "id": "e11d16cf",
   "metadata": {},
   "outputs": [],
   "source": [
    "bucket = 's3://datascience-sagemaker-fernandosousa'\n",
    "role = sagemaker.get_execution_role()\n",
    "treinamento = f'{bucket}/treinamento.csv'\n",
    "validacao = f'{bucket}/validacao.csv'\n",
    "saida = f'{bucket}/saida'\n",
    "\n",
    "tipo_instancia = 'ml.m5.large'\n",
    "\n",
    "container = '811284229777.dkr.ecr.us-east-1.amazonaws.com/xgboost:latest'\n",
    "\n",
    "base_name = 'cobranca-xgboost'\n",
    "\n",
    "hp = {\n",
    "    \"max_depth\": \"5\",\n",
    "    \"eta\": \"0.2\",\n",
    "    \"gamma\": \"4\",\n",
    "    \"min_child_weight\":\"6\",\n",
    "    \"subsample\":\"0.7\",\n",
    "    \"objective\":\"binary:logistic\",\n",
    "    \"num_round\": \"50\"\n",
    "}"
   ]
  },
  {
   "cell_type": "code",
   "execution_count": 7,
   "id": "2a47c9bc",
   "metadata": {},
   "outputs": [],
   "source": [
    "estimador = sagemaker.estimator.Estimator(\n",
    "    base_name=base_name,\n",
    "    image_uri=container,\n",
    "    hyperparameters = hp,\n",
    "    role=role,\n",
    "    instance_count=1,\n",
    "    instance_type=tipo_instancia,\n",
    "    volume_size=5,\n",
    "    output_path=saida\n",
    ")"
   ]
  },
  {
   "cell_type": "code",
   "execution_count": 8,
   "id": "2dded051",
   "metadata": {},
   "outputs": [],
   "source": [
    "treinamento_input = TrainingInput(treinamento, content_type='csv')\n",
    "validacao_input = TrainingInput(validacao, content_type='csv')"
   ]
  },
  {
   "cell_type": "code",
   "execution_count": 9,
   "id": "d289a6eb",
   "metadata": {},
   "outputs": [
    {
     "name": "stdout",
     "output_type": "stream",
     "text": [
      "2022-04-13 00:45:55 Starting - Starting the training job...\n",
      "2022-04-13 00:46:22 Starting - Preparing the instances for trainingProfilerReport-1649810755: InProgress\n",
      ".........\n",
      "2022-04-13 00:47:42 Downloading - Downloading input data......\n",
      "2022-04-13 00:48:42 Training - Downloading the training image..\u001b[34mArguments: train\u001b[0m\n",
      "\u001b[34m[2022-04-13:00:49:10:INFO] Running standalone xgboost training.\u001b[0m\n",
      "\u001b[34m[2022-04-13:00:49:10:INFO] File size need to be processed in the node: 0.29mb. Available memory size in the node: 208.03mb\u001b[0m\n",
      "\u001b[34m[2022-04-13:00:49:10:INFO] Determined delimiter of CSV input is ','\u001b[0m\n",
      "\u001b[34m[00:49:10] S3DistributionType set as FullyReplicated\u001b[0m\n",
      "\u001b[34m[00:49:10] 6871x7 matrix with 48097 entries loaded from /opt/ml/input/data/train?format=csv&label_column=0&delimiter=,\u001b[0m\n",
      "\u001b[34m[2022-04-13:00:49:10:INFO] Determined delimiter of CSV input is ','\u001b[0m\n",
      "\u001b[34m[00:49:10] S3DistributionType set as FullyReplicated\u001b[0m\n",
      "\u001b[34m[00:49:10] 1964x7 matrix with 13748 entries loaded from /opt/ml/input/data/validation?format=csv&label_column=0&delimiter=,\u001b[0m\n",
      "\u001b[34m[00:49:10] src/tree/updater_prune.cc:74: tree pruning end, 1 roots, 32 extra nodes, 28 pruned nodes, max_depth=5\u001b[0m\n",
      "\u001b[34m[0]#011train-error:0.25775#011validation-error:0.283605\u001b[0m\n",
      "\u001b[34m[00:49:10] src/tree/updater_prune.cc:74: tree pruning end, 1 roots, 36 extra nodes, 22 pruned nodes, max_depth=5\u001b[0m\n",
      "\u001b[34m[1]#011train-error:0.257459#011validation-error:0.280041\u001b[0m\n",
      "\u001b[34m[00:49:10] src/tree/updater_prune.cc:74: tree pruning end, 1 roots, 22 extra nodes, 30 pruned nodes, max_depth=5\u001b[0m\n",
      "\u001b[34m[2]#011train-error:0.258478#011validation-error:0.28666\u001b[0m\n",
      "\u001b[34m[00:49:10] src/tree/updater_prune.cc:74: tree pruning end, 1 roots, 26 extra nodes, 30 pruned nodes, max_depth=5\u001b[0m\n",
      "\u001b[34m[3]#011train-error:0.258478#011validation-error:0.28666\u001b[0m\n",
      "\u001b[34m[00:49:10] src/tree/updater_prune.cc:74: tree pruning end, 1 roots, 30 extra nodes, 28 pruned nodes, max_depth=5\u001b[0m\n",
      "\u001b[34m[4]#011train-error:0.257313#011validation-error:0.28666\u001b[0m\n",
      "\u001b[34m[00:49:10] src/tree/updater_prune.cc:74: tree pruning end, 1 roots, 34 extra nodes, 20 pruned nodes, max_depth=5\u001b[0m\n",
      "\u001b[34m[5]#011train-error:0.25513#011validation-error:0.282077\u001b[0m\n",
      "\u001b[34m[00:49:10] src/tree/updater_prune.cc:74: tree pruning end, 1 roots, 24 extra nodes, 24 pruned nodes, max_depth=5\u001b[0m\n",
      "\u001b[34m[6]#011train-error:0.256003#011validation-error:0.288187\u001b[0m\n",
      "\u001b[34m[00:49:10] src/tree/updater_prune.cc:74: tree pruning end, 1 roots, 24 extra nodes, 22 pruned nodes, max_depth=5\u001b[0m\n",
      "\u001b[34m[7]#011train-error:0.254548#011validation-error:0.281568\u001b[0m\n",
      "\u001b[34m[00:49:10] src/tree/updater_prune.cc:74: tree pruning end, 1 roots, 24 extra nodes, 30 pruned nodes, max_depth=5\u001b[0m\n",
      "\u001b[34m[8]#011train-error:0.25382#011validation-error:0.280041\u001b[0m\n",
      "\u001b[34m[00:49:10] src/tree/updater_prune.cc:74: tree pruning end, 1 roots, 20 extra nodes, 26 pruned nodes, max_depth=5\u001b[0m\n",
      "\u001b[34m[9]#011train-error:0.253675#011validation-error:0.280041\u001b[0m\n",
      "\u001b[34m[00:49:10] src/tree/updater_prune.cc:74: tree pruning end, 1 roots, 22 extra nodes, 26 pruned nodes, max_depth=5\u001b[0m\n",
      "\u001b[34m[10]#011train-error:0.251637#011validation-error:0.276477\u001b[0m\n",
      "\u001b[34m[00:49:10] src/tree/updater_prune.cc:74: tree pruning end, 1 roots, 26 extra nodes, 22 pruned nodes, max_depth=5\u001b[0m\n",
      "\u001b[34m[11]#011train-error:0.250764#011validation-error:0.275967\u001b[0m\n",
      "\u001b[34m[00:49:10] src/tree/updater_prune.cc:74: tree pruning end, 1 roots, 18 extra nodes, 40 pruned nodes, max_depth=5\u001b[0m\n",
      "\u001b[34m[12]#011train-error:0.249745#011validation-error:0.277495\u001b[0m\n",
      "\u001b[34m[00:49:10] src/tree/updater_prune.cc:74: tree pruning end, 1 roots, 20 extra nodes, 24 pruned nodes, max_depth=5\u001b[0m\n",
      "\u001b[34m[13]#011train-error:0.249745#011validation-error:0.276986\u001b[0m\n",
      "\u001b[34m[00:49:10] src/tree/updater_prune.cc:74: tree pruning end, 1 roots, 20 extra nodes, 30 pruned nodes, max_depth=5\u001b[0m\n",
      "\u001b[34m[14]#011train-error:0.250473#011validation-error:0.280041\u001b[0m\n",
      "\u001b[34m[00:49:10] src/tree/updater_prune.cc:74: tree pruning end, 1 roots, 14 extra nodes, 30 pruned nodes, max_depth=5\u001b[0m\n",
      "\u001b[34m[15]#011train-error:0.249163#011validation-error:0.278513\u001b[0m\n",
      "\u001b[34m[00:49:10] src/tree/updater_prune.cc:74: tree pruning end, 1 roots, 16 extra nodes, 24 pruned nodes, max_depth=5\u001b[0m\n",
      "\u001b[34m[16]#011train-error:0.249163#011validation-error:0.282077\u001b[0m\n",
      "\u001b[34m[00:49:10] src/tree/updater_prune.cc:74: tree pruning end, 1 roots, 12 extra nodes, 26 pruned nodes, max_depth=5\u001b[0m\n",
      "\u001b[34m[17]#011train-error:0.248872#011validation-error:0.282077\u001b[0m\n",
      "\u001b[34m[00:49:10] src/tree/updater_prune.cc:74: tree pruning end, 1 roots, 12 extra nodes, 18 pruned nodes, max_depth=4\u001b[0m\n",
      "\u001b[34m[18]#011train-error:0.249018#011validation-error:0.279532\u001b[0m\n",
      "\u001b[34m[00:49:10] src/tree/updater_prune.cc:74: tree pruning end, 1 roots, 14 extra nodes, 40 pruned nodes, max_depth=5\u001b[0m\n",
      "\u001b[34m[19]#011train-error:0.249018#011validation-error:0.280041\u001b[0m\n",
      "\u001b[34m[00:49:10] src/tree/updater_prune.cc:74: tree pruning end, 1 roots, 8 extra nodes, 40 pruned nodes, max_depth=4\u001b[0m\n",
      "\u001b[34m[20]#011train-error:0.249018#011validation-error:0.278004\u001b[0m\n",
      "\u001b[34m[00:49:10] src/tree/updater_prune.cc:74: tree pruning end, 1 roots, 22 extra nodes, 18 pruned nodes, max_depth=5\u001b[0m\n",
      "\u001b[34m[21]#011train-error:0.246398#011validation-error:0.280041\u001b[0m\n",
      "\u001b[34m[00:49:10] src/tree/updater_prune.cc:74: tree pruning end, 1 roots, 12 extra nodes, 36 pruned nodes, max_depth=5\u001b[0m\n",
      "\u001b[34m[22]#011train-error:0.245088#011validation-error:0.280041\u001b[0m\n",
      "\u001b[34m[00:49:10] src/tree/updater_prune.cc:74: tree pruning end, 1 roots, 14 extra nodes, 18 pruned nodes, max_depth=4\u001b[0m\n",
      "\u001b[34m[23]#011train-error:0.246398#011validation-error:0.28055\u001b[0m\n",
      "\u001b[34m[00:49:10] src/tree/updater_prune.cc:74: tree pruning end, 1 roots, 8 extra nodes, 14 pruned nodes, max_depth=4\u001b[0m\n",
      "\u001b[34m[24]#011train-error:0.245816#011validation-error:0.279532\u001b[0m\n",
      "\u001b[34m[00:49:10] src/tree/updater_prune.cc:74: tree pruning end, 1 roots, 0 extra nodes, 32 pruned nodes, max_depth=0\u001b[0m\n",
      "\u001b[34m[25]#011train-error:0.246543#011validation-error:0.28055\u001b[0m\n",
      "\u001b[34m[00:49:10] src/tree/updater_prune.cc:74: tree pruning end, 1 roots, 16 extra nodes, 26 pruned nodes, max_depth=5\u001b[0m\n",
      "\u001b[34m[26]#011train-error:0.245234#011validation-error:0.28055\u001b[0m\n",
      "\u001b[34m[00:49:10] src/tree/updater_prune.cc:74: tree pruning end, 1 roots, 12 extra nodes, 22 pruned nodes, max_depth=5\u001b[0m\n",
      "\u001b[34m[27]#011train-error:0.244797#011validation-error:0.278513\u001b[0m\n",
      "\u001b[34m[00:49:10] src/tree/updater_prune.cc:74: tree pruning end, 1 roots, 16 extra nodes, 28 pruned nodes, max_depth=5\u001b[0m\n",
      "\u001b[34m[28]#011train-error:0.24567#011validation-error:0.278004\u001b[0m\n",
      "\u001b[34m[00:49:10] src/tree/updater_prune.cc:74: tree pruning end, 1 roots, 16 extra nodes, 34 pruned nodes, max_depth=5\u001b[0m\n",
      "\u001b[34m[29]#011train-error:0.246252#011validation-error:0.275967\u001b[0m\n",
      "\u001b[34m[00:49:10] src/tree/updater_prune.cc:74: tree pruning end, 1 roots, 20 extra nodes, 32 pruned nodes, max_depth=5\u001b[0m\n",
      "\u001b[34m[30]#011train-error:0.246543#011validation-error:0.279532\u001b[0m\n",
      "\u001b[34m[00:49:10] src/tree/updater_prune.cc:74: tree pruning end, 1 roots, 24 extra nodes, 28 pruned nodes, max_depth=5\u001b[0m\n",
      "\u001b[34m[31]#011train-error:0.245816#011validation-error:0.280041\u001b[0m\n",
      "\u001b[34m[00:49:10] src/tree/updater_prune.cc:74: tree pruning end, 1 roots, 10 extra nodes, 20 pruned nodes, max_depth=5\u001b[0m\n",
      "\u001b[34m[32]#011train-error:0.24567#011validation-error:0.281059\u001b[0m\n",
      "\u001b[34m[00:49:10] src/tree/updater_prune.cc:74: tree pruning end, 1 roots, 20 extra nodes, 10 pruned nodes, max_depth=5\u001b[0m\n",
      "\u001b[34m[33]#011train-error:0.243924#011validation-error:0.282587\u001b[0m\n",
      "\u001b[34m[00:49:10] src/tree/updater_prune.cc:74: tree pruning end, 1 roots, 28 extra nodes, 24 pruned nodes, max_depth=5\u001b[0m\n",
      "\u001b[34m[34]#011train-error:0.242614#011validation-error:0.279532\u001b[0m\n",
      "\u001b[34m[00:49:10] src/tree/updater_prune.cc:74: tree pruning end, 1 roots, 20 extra nodes, 26 pruned nodes, max_depth=5\u001b[0m\n",
      "\u001b[34m[35]#011train-error:0.239703#011validation-error:0.278004\u001b[0m\n",
      "\u001b[34m[00:49:10] src/tree/updater_prune.cc:74: tree pruning end, 1 roots, 0 extra nodes, 32 pruned nodes, max_depth=0\u001b[0m\n",
      "\u001b[34m[36]#011train-error:0.239266#011validation-error:0.277495\u001b[0m\n",
      "\u001b[34m[00:49:10] src/tree/updater_prune.cc:74: tree pruning end, 1 roots, 10 extra nodes, 28 pruned nodes, max_depth=5\u001b[0m\n",
      "\u001b[34m[37]#011train-error:0.239849#011validation-error:0.279022\u001b[0m\n",
      "\u001b[34m[00:49:10] src/tree/updater_prune.cc:74: tree pruning end, 1 roots, 10 extra nodes, 30 pruned nodes, max_depth=5\u001b[0m\n",
      "\u001b[34m[38]#011train-error:0.239994#011validation-error:0.277495\u001b[0m\n",
      "\u001b[34m[00:49:10] src/tree/updater_prune.cc:74: tree pruning end, 1 roots, 8 extra nodes, 40 pruned nodes, max_depth=4\u001b[0m\n",
      "\u001b[34m[39]#011train-error:0.239558#011validation-error:0.277495\u001b[0m\n",
      "\u001b[34m[00:49:10] src/tree/updater_prune.cc:74: tree pruning end, 1 roots, 0 extra nodes, 52 pruned nodes, max_depth=0\u001b[0m\n",
      "\u001b[34m[40]#011train-error:0.239558#011validation-error:0.277495\u001b[0m\n",
      "\u001b[34m[00:49:10] src/tree/updater_prune.cc:74: tree pruning end, 1 roots, 4 extra nodes, 10 pruned nodes, max_depth=2\u001b[0m\n",
      "\u001b[34m[41]#011train-error:0.239412#011validation-error:0.276986\u001b[0m\n",
      "\u001b[34m[00:49:10] src/tree/updater_prune.cc:74: tree pruning end, 1 roots, 14 extra nodes, 34 pruned nodes, max_depth=5\u001b[0m\n",
      "\u001b[34m[42]#011train-error:0.238975#011validation-error:0.275458\u001b[0m\n",
      "\u001b[34m[00:49:10] src/tree/updater_prune.cc:74: tree pruning end, 1 roots, 14 extra nodes, 34 pruned nodes, max_depth=5\u001b[0m\n",
      "\u001b[34m[43]#011train-error:0.238102#011validation-error:0.275458\u001b[0m\n",
      "\u001b[34m[00:49:10] src/tree/updater_prune.cc:74: tree pruning end, 1 roots, 20 extra nodes, 28 pruned nodes, max_depth=5\u001b[0m\n",
      "\u001b[34m[44]#011train-error:0.239558#011validation-error:0.275967\u001b[0m\n",
      "\u001b[34m[00:49:10] src/tree/updater_prune.cc:74: tree pruning end, 1 roots, 14 extra nodes, 32 pruned nodes, max_depth=4\u001b[0m\n",
      "\u001b[34m[45]#011train-error:0.237666#011validation-error:0.278513\u001b[0m\n",
      "\u001b[34m[00:49:10] src/tree/updater_prune.cc:74: tree pruning end, 1 roots, 12 extra nodes, 28 pruned nodes, max_depth=5\u001b[0m\n",
      "\u001b[34m[46]#011train-error:0.235774#011validation-error:0.276477\u001b[0m\n",
      "\u001b[34m[00:49:10] src/tree/updater_prune.cc:74: tree pruning end, 1 roots, 12 extra nodes, 16 pruned nodes, max_depth=5\u001b[0m\n",
      "\u001b[34m[47]#011train-error:0.235482#011validation-error:0.276477\u001b[0m\n",
      "\u001b[34m[00:49:10] src/tree/updater_prune.cc:74: tree pruning end, 1 roots, 0 extra nodes, 42 pruned nodes, max_depth=0\u001b[0m\n",
      "\u001b[34m[48]#011train-error:0.235919#011validation-error:0.276986\u001b[0m\n",
      "\u001b[34m[00:49:10] src/tree/updater_prune.cc:74: tree pruning end, 1 roots, 0 extra nodes, 34 pruned nodes, max_depth=0\u001b[0m\n",
      "\u001b[34m[49]#011train-error:0.235919#011validation-error:0.276986\u001b[0m\n",
      "\n",
      "2022-04-13 00:49:27 Uploading - Uploading generated training model\n",
      "2022-04-13 00:49:27 Completed - Training job completed\n",
      "Training seconds: 117\n",
      "Billable seconds: 117\n"
     ]
    }
   ],
   "source": [
    "estimador.fit({\n",
    "    'train':treinamento_input,\n",
    "    'validation':validacao_input\n",
    "})"
   ]
  },
  {
   "cell_type": "code",
   "execution_count": 12,
   "id": "93565c4b",
   "metadata": {},
   "outputs": [
    {
     "name": "stdout",
     "output_type": "stream",
     "text": [
      "-----!"
     ]
    }
   ],
   "source": [
    "predictor = estimador.deploy(\n",
    "    initial_instance_count=1, \n",
    "    instance_type=tipo_instancia,\n",
    "    serializer=CSVSerializer(), \n",
    "    endpoint_name='datascience-credito-xgboost-aula'\n",
    ")\n"
   ]
  },
  {
   "cell_type": "code",
   "execution_count": 14,
   "id": "6e338fc6",
   "metadata": {},
   "outputs": [],
   "source": [
    "dados_teste = pd.read_csv('dados/testes.csv')\n",
    "\n",
    "predictions = []\n",
    "for index, row in dados_teste.iterrows():\n",
    "    p = predictor.predict(row[1:])\n",
    "    predictions.append(float(p.decode('utf8')))\n",
    "\n",
    "predictions = np.array(predictions)"
   ]
  },
  {
   "cell_type": "code",
   "execution_count": null,
   "id": "daead579",
   "metadata": {},
   "outputs": [],
   "source": [
    "predictions"
   ]
  },
  {
   "cell_type": "code",
   "execution_count": null,
   "id": "97f668ca",
   "metadata": {},
   "outputs": [],
   "source": [
    "predictions = np.where(predictions > 0.5, 1, 0)\n",
    "predictions"
   ]
  },
  {
   "cell_type": "code",
   "execution_count": 18,
   "id": "e3d398c1",
   "metadata": {},
   "outputs": [
    {
     "name": "stdout",
     "output_type": "stream",
     "text": [
      "              precision    recall  f1-score   support\n",
      "\n",
      "           0       0.76      0.72      0.74       469\n",
      "           1       0.75      0.79      0.77       512\n",
      "\n",
      "    accuracy                           0.75       981\n",
      "   macro avg       0.75      0.75      0.75       981\n",
      "weighted avg       0.75      0.75      0.75       981\n",
      "\n"
     ]
    }
   ],
   "source": [
    "print(metrics.classification_report(dados_teste.iloc[:, 0], predictions))"
   ]
  },
  {
   "cell_type": "code",
   "execution_count": null,
   "id": "af17be90",
   "metadata": {},
   "outputs": [],
   "source": []
  }
 ],
 "metadata": {
  "kernelspec": {
   "display_name": "conda_python3",
   "language": "python",
   "name": "conda_python3"
  },
  "language_info": {
   "codemirror_mode": {
    "name": "ipython",
    "version": 3
   },
   "file_extension": ".py",
   "mimetype": "text/x-python",
   "name": "python",
   "nbconvert_exporter": "python",
   "pygments_lexer": "ipython3",
   "version": "3.6.13"
  }
 },
 "nbformat": 4,
 "nbformat_minor": 5
}
